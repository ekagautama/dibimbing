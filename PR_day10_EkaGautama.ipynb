{
  "cells": [
    {
      "cell_type": "markdown",
      "metadata": {
        "id": "view-in-github",
        "colab_type": "text"
      },
      "source": [
        "<a href=\"https://colab.research.google.com/github/ekagautama/dibimbing/blob/main/PR_day10_EkaGautama.ipynb\" target=\"_parent\"><img src=\"https://colab.research.google.com/assets/colab-badge.svg\" alt=\"Open In Colab\"/></a>"
      ]
    },
    {
      "cell_type": "markdown",
      "id": "2071f8e1",
      "metadata": {
        "id": "2071f8e1"
      },
      "source": [
        "# Machine Learning Projects Portofolio\n",
        "### Ketentuan Tugas :\n",
        "1. Dibebaskan untuk men-download Dataset dari Kaggle atau sumber data lainnya, pilih untuk kasus supervised atau unsupervised.\n",
        "2. Buatlah End to end project Machine Learning di local jupyter notebook / Google Collaboratory.\n",
        "3. Ganti nama file : template_pr_day10.ipynb  dengan PR_day10_nama_siswa.ipynb\n",
        "4. Upload Dataset yang digunakan ke Kaggle\n",
        "5. Upload file code dan ppt (jika ada) ke dalam github repository + file readme pada github.\n",
        "6. Tugas ini bersifat individu, dikumpulkan ke LMS dalam bentuk **link githubnya saja**."
      ]
    },
    {
      "cell_type": "code",
      "execution_count": null,
      "id": "2edc1e1d",
      "metadata": {
        "id": "2edc1e1d"
      },
      "outputs": [],
      "source": [
        "#Import libraries and dataset\n",
        "import pandas as pd\n",
        "import seaborn as sns\n",
        "sns.set()\n",
        "from sklearn.preprocessing import StandardScaler\n",
        "from sklearn.model_selection import train_test_split\n",
        "from sklearn.linear_model import LinearRegression\n",
        "from sklearn.preprocessing import OneHotEncoder"
      ]
    },
    {
      "cell_type": "code",
      "execution_count": null,
      "id": "2fc26041",
      "metadata": {
        "id": "2fc26041",
        "colab": {
          "base_uri": "https://localhost:8080/"
        },
        "outputId": "18e1d9ea-99da-4688-aab2-fce366b0f63d"
      },
      "outputs": [
        {
          "output_type": "stream",
          "name": "stdout",
          "text": [
            "Requirement already satisfied: tensorflow in /usr/local/lib/python3.10/dist-packages (2.15.0)\n",
            "Requirement already satisfied: absl-py>=1.0.0 in /usr/local/lib/python3.10/dist-packages (from tensorflow) (1.4.0)\n",
            "Requirement already satisfied: astunparse>=1.6.0 in /usr/local/lib/python3.10/dist-packages (from tensorflow) (1.6.3)\n",
            "Requirement already satisfied: flatbuffers>=23.5.26 in /usr/local/lib/python3.10/dist-packages (from tensorflow) (23.5.26)\n",
            "Requirement already satisfied: gast!=0.5.0,!=0.5.1,!=0.5.2,>=0.2.1 in /usr/local/lib/python3.10/dist-packages (from tensorflow) (0.5.4)\n",
            "Requirement already satisfied: google-pasta>=0.1.1 in /usr/local/lib/python3.10/dist-packages (from tensorflow) (0.2.0)\n",
            "Requirement already satisfied: h5py>=2.9.0 in /usr/local/lib/python3.10/dist-packages (from tensorflow) (3.9.0)\n",
            "Requirement already satisfied: libclang>=13.0.0 in /usr/local/lib/python3.10/dist-packages (from tensorflow) (16.0.6)\n",
            "Requirement already satisfied: ml-dtypes~=0.2.0 in /usr/local/lib/python3.10/dist-packages (from tensorflow) (0.2.0)\n",
            "Requirement already satisfied: numpy<2.0.0,>=1.23.5 in /usr/local/lib/python3.10/dist-packages (from tensorflow) (1.23.5)\n",
            "Requirement already satisfied: opt-einsum>=2.3.2 in /usr/local/lib/python3.10/dist-packages (from tensorflow) (3.3.0)\n",
            "Requirement already satisfied: packaging in /usr/local/lib/python3.10/dist-packages (from tensorflow) (23.2)\n",
            "Requirement already satisfied: protobuf!=4.21.0,!=4.21.1,!=4.21.2,!=4.21.3,!=4.21.4,!=4.21.5,<5.0.0dev,>=3.20.3 in /usr/local/lib/python3.10/dist-packages (from tensorflow) (3.20.3)\n",
            "Requirement already satisfied: setuptools in /usr/local/lib/python3.10/dist-packages (from tensorflow) (67.7.2)\n",
            "Requirement already satisfied: six>=1.12.0 in /usr/local/lib/python3.10/dist-packages (from tensorflow) (1.16.0)\n",
            "Requirement already satisfied: termcolor>=1.1.0 in /usr/local/lib/python3.10/dist-packages (from tensorflow) (2.4.0)\n",
            "Requirement already satisfied: typing-extensions>=3.6.6 in /usr/local/lib/python3.10/dist-packages (from tensorflow) (4.9.0)\n",
            "Requirement already satisfied: wrapt<1.15,>=1.11.0 in /usr/local/lib/python3.10/dist-packages (from tensorflow) (1.14.1)\n",
            "Requirement already satisfied: tensorflow-io-gcs-filesystem>=0.23.1 in /usr/local/lib/python3.10/dist-packages (from tensorflow) (0.36.0)\n",
            "Requirement already satisfied: grpcio<2.0,>=1.24.3 in /usr/local/lib/python3.10/dist-packages (from tensorflow) (1.60.1)\n",
            "Requirement already satisfied: tensorboard<2.16,>=2.15 in /usr/local/lib/python3.10/dist-packages (from tensorflow) (2.15.1)\n",
            "Requirement already satisfied: tensorflow-estimator<2.16,>=2.15.0 in /usr/local/lib/python3.10/dist-packages (from tensorflow) (2.15.0)\n",
            "Requirement already satisfied: keras<2.16,>=2.15.0 in /usr/local/lib/python3.10/dist-packages (from tensorflow) (2.15.0)\n",
            "Requirement already satisfied: wheel<1.0,>=0.23.0 in /usr/local/lib/python3.10/dist-packages (from astunparse>=1.6.0->tensorflow) (0.42.0)\n",
            "Requirement already satisfied: google-auth<3,>=1.6.3 in /usr/local/lib/python3.10/dist-packages (from tensorboard<2.16,>=2.15->tensorflow) (2.17.3)\n",
            "Requirement already satisfied: google-auth-oauthlib<2,>=0.5 in /usr/local/lib/python3.10/dist-packages (from tensorboard<2.16,>=2.15->tensorflow) (1.2.0)\n",
            "Requirement already satisfied: markdown>=2.6.8 in /usr/local/lib/python3.10/dist-packages (from tensorboard<2.16,>=2.15->tensorflow) (3.5.2)\n",
            "Requirement already satisfied: requests<3,>=2.21.0 in /usr/local/lib/python3.10/dist-packages (from tensorboard<2.16,>=2.15->tensorflow) (2.31.0)\n",
            "Requirement already satisfied: tensorboard-data-server<0.8.0,>=0.7.0 in /usr/local/lib/python3.10/dist-packages (from tensorboard<2.16,>=2.15->tensorflow) (0.7.2)\n",
            "Requirement already satisfied: werkzeug>=1.0.1 in /usr/local/lib/python3.10/dist-packages (from tensorboard<2.16,>=2.15->tensorflow) (3.0.1)\n",
            "Requirement already satisfied: cachetools<6.0,>=2.0.0 in /usr/local/lib/python3.10/dist-packages (from google-auth<3,>=1.6.3->tensorboard<2.16,>=2.15->tensorflow) (5.3.2)\n",
            "Requirement already satisfied: pyasn1-modules>=0.2.1 in /usr/local/lib/python3.10/dist-packages (from google-auth<3,>=1.6.3->tensorboard<2.16,>=2.15->tensorflow) (0.3.0)\n",
            "Requirement already satisfied: rsa<5,>=3.1.4 in /usr/local/lib/python3.10/dist-packages (from google-auth<3,>=1.6.3->tensorboard<2.16,>=2.15->tensorflow) (4.9)\n",
            "Requirement already satisfied: requests-oauthlib>=0.7.0 in /usr/local/lib/python3.10/dist-packages (from google-auth-oauthlib<2,>=0.5->tensorboard<2.16,>=2.15->tensorflow) (1.3.1)\n",
            "Requirement already satisfied: charset-normalizer<4,>=2 in /usr/local/lib/python3.10/dist-packages (from requests<3,>=2.21.0->tensorboard<2.16,>=2.15->tensorflow) (3.3.2)\n",
            "Requirement already satisfied: idna<4,>=2.5 in /usr/local/lib/python3.10/dist-packages (from requests<3,>=2.21.0->tensorboard<2.16,>=2.15->tensorflow) (3.6)\n",
            "Requirement already satisfied: urllib3<3,>=1.21.1 in /usr/local/lib/python3.10/dist-packages (from requests<3,>=2.21.0->tensorboard<2.16,>=2.15->tensorflow) (2.0.7)\n",
            "Requirement already satisfied: certifi>=2017.4.17 in /usr/local/lib/python3.10/dist-packages (from requests<3,>=2.21.0->tensorboard<2.16,>=2.15->tensorflow) (2024.2.2)\n",
            "Requirement already satisfied: MarkupSafe>=2.1.1 in /usr/local/lib/python3.10/dist-packages (from werkzeug>=1.0.1->tensorboard<2.16,>=2.15->tensorflow) (2.1.5)\n",
            "Requirement already satisfied: pyasn1<0.6.0,>=0.4.6 in /usr/local/lib/python3.10/dist-packages (from pyasn1-modules>=0.2.1->google-auth<3,>=1.6.3->tensorboard<2.16,>=2.15->tensorflow) (0.5.1)\n",
            "Requirement already satisfied: oauthlib>=3.0.0 in /usr/local/lib/python3.10/dist-packages (from requests-oauthlib>=0.7.0->google-auth-oauthlib<2,>=0.5->tensorboard<2.16,>=2.15->tensorflow) (3.2.2)\n"
          ]
        }
      ],
      "source": [
        "!pip install tensorflow"
      ]
    },
    {
      "cell_type": "code",
      "source": [
        "df = pd.read_csv('CarPricesPrediction.csv')\n",
        "\n",
        "print(df.head())\n",
        "print(df.columns)"
      ],
      "metadata": {
        "colab": {
          "base_uri": "https://localhost:8080/"
        },
        "id": "HO_azUFZHTuP",
        "outputId": "436c9c9d-4752-43a9-ee29-9c99438b3d4f"
      },
      "id": "HO_azUFZHTuP",
      "execution_count": null,
      "outputs": [
        {
          "output_type": "stream",
          "name": "stdout",
          "text": [
            "   Unnamed: 0       Make      Model  Year  Mileage  Condition     Price\n",
            "0           0       Ford  Silverado  2022    18107  Excellent  19094.75\n",
            "1           1     Toyota  Silverado  2014    13578  Excellent  27321.10\n",
            "2           2  Chevrolet      Civic  2016    46054       Good  23697.30\n",
            "3           3       Ford      Civic  2022    34981  Excellent  18251.05\n",
            "4           4  Chevrolet      Civic  2019    63565  Excellent  19821.85\n",
            "Index(['Unnamed: 0', 'Make', 'Model', 'Year', 'Mileage', 'Condition', 'Price'], dtype='object')\n"
          ]
        }
      ]
    },
    {
      "cell_type": "code",
      "source": [
        "# check apakah ada missing value\n",
        "df.isnull().sum()"
      ],
      "metadata": {
        "colab": {
          "base_uri": "https://localhost:8080/"
        },
        "id": "aE324i3wHcz_",
        "outputId": "861477a2-149a-4d56-ce9e-4d63e8da9bd9"
      },
      "id": "aE324i3wHcz_",
      "execution_count": null,
      "outputs": [
        {
          "output_type": "execute_result",
          "data": {
            "text/plain": [
              "Unnamed: 0    0\n",
              "Make          0\n",
              "Model         0\n",
              "Year          0\n",
              "Mileage       0\n",
              "Condition     0\n",
              "Price         0\n",
              "dtype: int64"
            ]
          },
          "metadata": {},
          "execution_count": 30
        }
      ]
    },
    {
      "cell_type": "code",
      "source": [
        "features = df.columns[1:6]\n",
        "target = df.columns[6]\n",
        "\n",
        "print(features)\n",
        "print(target)"
      ],
      "metadata": {
        "colab": {
          "base_uri": "https://localhost:8080/"
        },
        "id": "NUcS2jGnHrX1",
        "outputId": "e6a6f31e-4747-4677-80ac-c87680b19236"
      },
      "id": "NUcS2jGnHrX1",
      "execution_count": null,
      "outputs": [
        {
          "output_type": "stream",
          "name": "stdout",
          "text": [
            "Index(['Make', 'Model', 'Year', 'Mileage', 'Condition'], dtype='object')\n",
            "Price\n"
          ]
        }
      ]
    },
    {
      "cell_type": "code",
      "source": [
        "df.Make.unique()"
      ],
      "metadata": {
        "colab": {
          "base_uri": "https://localhost:8080/"
        },
        "id": "hCbfUUsJJB1L",
        "outputId": "f87b6192-226e-41ff-fc91-6eadd926a794"
      },
      "id": "hCbfUUsJJB1L",
      "execution_count": null,
      "outputs": [
        {
          "output_type": "execute_result",
          "data": {
            "text/plain": [
              "array(['Ford', 'Toyota', 'Chevrolet', 'Nissan', 'Honda'], dtype=object)"
            ]
          },
          "metadata": {},
          "execution_count": 32
        }
      ]
    },
    {
      "cell_type": "code",
      "source": [
        "print(df['Make'].unique())"
      ],
      "metadata": {
        "colab": {
          "base_uri": "https://localhost:8080/"
        },
        "id": "TAn7fK73JfmS",
        "outputId": "67b920f1-7f10-4dd6-fa12-544fc181717b"
      },
      "id": "TAn7fK73JfmS",
      "execution_count": null,
      "outputs": [
        {
          "output_type": "stream",
          "name": "stdout",
          "text": [
            "['Ford' 'Toyota' 'Chevrolet' 'Nissan' 'Honda']\n"
          ]
        }
      ]
    },
    {
      "cell_type": "code",
      "source": [
        "df.Model.unique()"
      ],
      "metadata": {
        "colab": {
          "base_uri": "https://localhost:8080/"
        },
        "id": "dU4_iyfwJLCb",
        "outputId": "f375c06a-b551-43ce-8d61-04ae4c480b62"
      },
      "id": "dU4_iyfwJLCb",
      "execution_count": null,
      "outputs": [
        {
          "output_type": "execute_result",
          "data": {
            "text/plain": [
              "array(['Silverado', 'Civic', 'Altima', 'Camry', 'F-150'], dtype=object)"
            ]
          },
          "metadata": {},
          "execution_count": 34
        }
      ]
    },
    {
      "cell_type": "code",
      "source": [
        "df.Condition.unique()"
      ],
      "metadata": {
        "colab": {
          "base_uri": "https://localhost:8080/"
        },
        "id": "dFcsL5ceJOOz",
        "outputId": "0b8f6833-215c-4eff-d882-94d502e1d787"
      },
      "id": "dFcsL5ceJOOz",
      "execution_count": null,
      "outputs": [
        {
          "output_type": "execute_result",
          "data": {
            "text/plain": [
              "array(['Excellent', 'Good', 'Fair'], dtype=object)"
            ]
          },
          "metadata": {},
          "execution_count": 35
        }
      ]
    },
    {
      "cell_type": "code",
      "source": [
        "df['Make'] = df['Make'].astype('category')\n",
        "df['Model'] = df['Model'].astype('category')\n",
        "df['Condition'] = df['Condition'].astype('category')\n"
      ],
      "metadata": {
        "id": "tOPHcBXFJvmr"
      },
      "id": "tOPHcBXFJvmr",
      "execution_count": null,
      "outputs": []
    },
    {
      "cell_type": "code",
      "source": [
        "df['Make_New'] = df['Make'].cat.codes\n",
        "df['Model_new'] = df['Model'].cat.codes\n",
        "df['Condition_new'] = df['Condition'].cat.codes"
      ],
      "metadata": {
        "id": "zkOZ1DOIKo5Y"
      },
      "id": "zkOZ1DOIKo5Y",
      "execution_count": null,
      "outputs": []
    },
    {
      "cell_type": "code",
      "source": [
        "enc = OneHotEncoder()"
      ],
      "metadata": {
        "id": "FWHajdM1Kxya"
      },
      "id": "FWHajdM1Kxya",
      "execution_count": null,
      "outputs": []
    },
    {
      "cell_type": "code",
      "source": [
        "enc_data = pd.DataFrame(enc.fit_transform( df[['Make_New', 'Model_new', 'Condition_new']]).toarray())"
      ],
      "metadata": {
        "id": "tS0enr_dKzbP"
      },
      "id": "tS0enr_dKzbP",
      "execution_count": null,
      "outputs": []
    },
    {
      "cell_type": "code",
      "source": [
        "New_df = df.join(enc_data)\n",
        "\n",
        "print(New_df)"
      ],
      "metadata": {
        "colab": {
          "base_uri": "https://localhost:8080/"
        },
        "id": "shvinXOkLAF3",
        "outputId": "40b175b6-1fe6-46ff-bc81-c5f990329fb9"
      },
      "id": "shvinXOkLAF3",
      "execution_count": null,
      "outputs": [
        {
          "output_type": "stream",
          "name": "stdout",
          "text": [
            "     Unnamed: 0       Make      Model  Year  Mileage  Condition     Price  \\\n",
            "0             0       Ford  Silverado  2022    18107  Excellent  19094.75   \n",
            "1             1     Toyota  Silverado  2014    13578  Excellent  27321.10   \n",
            "2             2  Chevrolet      Civic  2016    46054       Good  23697.30   \n",
            "3             3       Ford      Civic  2022    34981  Excellent  18251.05   \n",
            "4             4  Chevrolet      Civic  2019    63565  Excellent  19821.85   \n",
            "..          ...        ...        ...   ...      ...        ...       ...   \n",
            "995         995     Nissan      Camry  2010   149032  Excellent  24548.50   \n",
            "996         996  Chevrolet      F-150  2014    20608  Excellent  26969.70   \n",
            "997         997       Ford     Altima  2016   109851       Good  20507.55   \n",
            "998         998     Toyota  Silverado  2010    11704       Good  31414.90   \n",
            "999         999     Nissan  Silverado  2017   128390  Excellent  18580.60   \n",
            "\n",
            "     Make_New  Model_new  Condition_new  ...    3    4    5    6    7    8  \\\n",
            "0           1          4              0  ...  0.0  0.0  0.0  0.0  0.0  0.0   \n",
            "1           4          4              0  ...  0.0  1.0  0.0  0.0  0.0  0.0   \n",
            "2           0          2              2  ...  0.0  0.0  0.0  0.0  1.0  0.0   \n",
            "3           1          2              0  ...  0.0  0.0  0.0  0.0  1.0  0.0   \n",
            "4           0          2              0  ...  0.0  0.0  0.0  0.0  1.0  0.0   \n",
            "..        ...        ...            ...  ...  ...  ...  ...  ...  ...  ...   \n",
            "995         3          1              0  ...  1.0  0.0  0.0  1.0  0.0  0.0   \n",
            "996         0          3              0  ...  0.0  0.0  0.0  0.0  0.0  1.0   \n",
            "997         1          0              2  ...  0.0  0.0  1.0  0.0  0.0  0.0   \n",
            "998         4          4              2  ...  0.0  1.0  0.0  0.0  0.0  0.0   \n",
            "999         3          4              0  ...  1.0  0.0  0.0  0.0  0.0  0.0   \n",
            "\n",
            "       9   10   11   12  \n",
            "0    1.0  1.0  0.0  0.0  \n",
            "1    1.0  1.0  0.0  0.0  \n",
            "2    0.0  0.0  0.0  1.0  \n",
            "3    0.0  1.0  0.0  0.0  \n",
            "4    0.0  1.0  0.0  0.0  \n",
            "..   ...  ...  ...  ...  \n",
            "995  0.0  1.0  0.0  0.0  \n",
            "996  0.0  1.0  0.0  0.0  \n",
            "997  0.0  0.0  0.0  1.0  \n",
            "998  1.0  0.0  0.0  1.0  \n",
            "999  1.0  1.0  0.0  0.0  \n",
            "\n",
            "[1000 rows x 23 columns]\n"
          ]
        }
      ]
    },
    {
      "cell_type": "code",
      "source": [
        "print(df)"
      ],
      "metadata": {
        "colab": {
          "base_uri": "https://localhost:8080/"
        },
        "id": "lfbn7DriLRlr",
        "outputId": "4944b875-269d-4e45-ba92-9d167a16eb3e"
      },
      "id": "lfbn7DriLRlr",
      "execution_count": null,
      "outputs": [
        {
          "output_type": "stream",
          "name": "stdout",
          "text": [
            "     Unnamed: 0       Make      Model  Year  Mileage  Condition     Price  \\\n",
            "0             0       Ford  Silverado  2022    18107  Excellent  19094.75   \n",
            "1             1     Toyota  Silverado  2014    13578  Excellent  27321.10   \n",
            "2             2  Chevrolet      Civic  2016    46054       Good  23697.30   \n",
            "3             3       Ford      Civic  2022    34981  Excellent  18251.05   \n",
            "4             4  Chevrolet      Civic  2019    63565  Excellent  19821.85   \n",
            "..          ...        ...        ...   ...      ...        ...       ...   \n",
            "995         995     Nissan      Camry  2010   149032  Excellent  24548.50   \n",
            "996         996  Chevrolet      F-150  2014    20608  Excellent  26969.70   \n",
            "997         997       Ford     Altima  2016   109851       Good  20507.55   \n",
            "998         998     Toyota  Silverado  2010    11704       Good  31414.90   \n",
            "999         999     Nissan  Silverado  2017   128390  Excellent  18580.60   \n",
            "\n",
            "     Make_New  Model_new  Condition_new  \n",
            "0           1          4              0  \n",
            "1           4          4              0  \n",
            "2           0          2              2  \n",
            "3           1          2              0  \n",
            "4           0          2              0  \n",
            "..        ...        ...            ...  \n",
            "995         3          1              0  \n",
            "996         0          3              0  \n",
            "997         1          0              2  \n",
            "998         4          4              2  \n",
            "999         3          4              0  \n",
            "\n",
            "[1000 rows x 10 columns]\n"
          ]
        }
      ]
    },
    {
      "cell_type": "code",
      "source": [
        "features = df[[\"Make_New\", \"Model_new\", \"Condition_new\", \"Year\", \"Mileage\"]]\n",
        "target = df[\"Price\"]\n",
        "\n",
        "print(features)\n",
        "print(target)"
      ],
      "metadata": {
        "colab": {
          "base_uri": "https://localhost:8080/"
        },
        "id": "qQsVub-kLlKv",
        "outputId": "3241b9ff-21c1-424e-890b-e6ba292e2b1e"
      },
      "id": "qQsVub-kLlKv",
      "execution_count": null,
      "outputs": [
        {
          "output_type": "stream",
          "name": "stdout",
          "text": [
            "     Make_New  Model_new  Condition_new  Year  Mileage\n",
            "0           1          4              0  2022    18107\n",
            "1           4          4              0  2014    13578\n",
            "2           0          2              2  2016    46054\n",
            "3           1          2              0  2022    34981\n",
            "4           0          2              0  2019    63565\n",
            "..        ...        ...            ...   ...      ...\n",
            "995         3          1              0  2010   149032\n",
            "996         0          3              0  2014    20608\n",
            "997         1          0              2  2016   109851\n",
            "998         4          4              2  2010    11704\n",
            "999         3          4              0  2017   128390\n",
            "\n",
            "[1000 rows x 5 columns]\n",
            "0      19094.75\n",
            "1      27321.10\n",
            "2      23697.30\n",
            "3      18251.05\n",
            "4      19821.85\n",
            "         ...   \n",
            "995    24548.50\n",
            "996    26969.70\n",
            "997    20507.55\n",
            "998    31414.90\n",
            "999    18580.60\n",
            "Name: Price, Length: 1000, dtype: float64\n"
          ]
        }
      ]
    },
    {
      "cell_type": "code",
      "source": [
        "X = features\n",
        "y = target\n",
        "\n",
        "X_train, X_test, y_train, y_test = train_test_split(X, y, test_size=0.3, random_state=17)"
      ],
      "metadata": {
        "id": "mOsYZIC3IDVm"
      },
      "id": "mOsYZIC3IDVm",
      "execution_count": null,
      "outputs": []
    },
    {
      "cell_type": "code",
      "source": [
        "scaler = StandardScaler()\n",
        "X_train = scaler.fit_transform(X_train)\n",
        "X_test = scaler.transform(X_test)"
      ],
      "metadata": {
        "id": "QuGezOXPIOPE"
      },
      "id": "QuGezOXPIOPE",
      "execution_count": null,
      "outputs": []
    },
    {
      "cell_type": "code",
      "source": [
        "lr = LinearRegression()\n",
        "lr.fit(X_train, y_train)"
      ],
      "metadata": {
        "colab": {
          "base_uri": "https://localhost:8080/",
          "height": 74
        },
        "id": "fWlZ7w5bNOa0",
        "outputId": "2a925560-ca77-4ce7-8e01-465db3f78bc8"
      },
      "id": "fWlZ7w5bNOa0",
      "execution_count": null,
      "outputs": [
        {
          "output_type": "execute_result",
          "data": {
            "text/plain": [
              "LinearRegression()"
            ],
            "text/html": [
              "<style>#sk-container-id-1 {color: black;background-color: white;}#sk-container-id-1 pre{padding: 0;}#sk-container-id-1 div.sk-toggleable {background-color: white;}#sk-container-id-1 label.sk-toggleable__label {cursor: pointer;display: block;width: 100%;margin-bottom: 0;padding: 0.3em;box-sizing: border-box;text-align: center;}#sk-container-id-1 label.sk-toggleable__label-arrow:before {content: \"▸\";float: left;margin-right: 0.25em;color: #696969;}#sk-container-id-1 label.sk-toggleable__label-arrow:hover:before {color: black;}#sk-container-id-1 div.sk-estimator:hover label.sk-toggleable__label-arrow:before {color: black;}#sk-container-id-1 div.sk-toggleable__content {max-height: 0;max-width: 0;overflow: hidden;text-align: left;background-color: #f0f8ff;}#sk-container-id-1 div.sk-toggleable__content pre {margin: 0.2em;color: black;border-radius: 0.25em;background-color: #f0f8ff;}#sk-container-id-1 input.sk-toggleable__control:checked~div.sk-toggleable__content {max-height: 200px;max-width: 100%;overflow: auto;}#sk-container-id-1 input.sk-toggleable__control:checked~label.sk-toggleable__label-arrow:before {content: \"▾\";}#sk-container-id-1 div.sk-estimator input.sk-toggleable__control:checked~label.sk-toggleable__label {background-color: #d4ebff;}#sk-container-id-1 div.sk-label input.sk-toggleable__control:checked~label.sk-toggleable__label {background-color: #d4ebff;}#sk-container-id-1 input.sk-hidden--visually {border: 0;clip: rect(1px 1px 1px 1px);clip: rect(1px, 1px, 1px, 1px);height: 1px;margin: -1px;overflow: hidden;padding: 0;position: absolute;width: 1px;}#sk-container-id-1 div.sk-estimator {font-family: monospace;background-color: #f0f8ff;border: 1px dotted black;border-radius: 0.25em;box-sizing: border-box;margin-bottom: 0.5em;}#sk-container-id-1 div.sk-estimator:hover {background-color: #d4ebff;}#sk-container-id-1 div.sk-parallel-item::after {content: \"\";width: 100%;border-bottom: 1px solid gray;flex-grow: 1;}#sk-container-id-1 div.sk-label:hover label.sk-toggleable__label {background-color: #d4ebff;}#sk-container-id-1 div.sk-serial::before {content: \"\";position: absolute;border-left: 1px solid gray;box-sizing: border-box;top: 0;bottom: 0;left: 50%;z-index: 0;}#sk-container-id-1 div.sk-serial {display: flex;flex-direction: column;align-items: center;background-color: white;padding-right: 0.2em;padding-left: 0.2em;position: relative;}#sk-container-id-1 div.sk-item {position: relative;z-index: 1;}#sk-container-id-1 div.sk-parallel {display: flex;align-items: stretch;justify-content: center;background-color: white;position: relative;}#sk-container-id-1 div.sk-item::before, #sk-container-id-1 div.sk-parallel-item::before {content: \"\";position: absolute;border-left: 1px solid gray;box-sizing: border-box;top: 0;bottom: 0;left: 50%;z-index: -1;}#sk-container-id-1 div.sk-parallel-item {display: flex;flex-direction: column;z-index: 1;position: relative;background-color: white;}#sk-container-id-1 div.sk-parallel-item:first-child::after {align-self: flex-end;width: 50%;}#sk-container-id-1 div.sk-parallel-item:last-child::after {align-self: flex-start;width: 50%;}#sk-container-id-1 div.sk-parallel-item:only-child::after {width: 0;}#sk-container-id-1 div.sk-dashed-wrapped {border: 1px dashed gray;margin: 0 0.4em 0.5em 0.4em;box-sizing: border-box;padding-bottom: 0.4em;background-color: white;}#sk-container-id-1 div.sk-label label {font-family: monospace;font-weight: bold;display: inline-block;line-height: 1.2em;}#sk-container-id-1 div.sk-label-container {text-align: center;}#sk-container-id-1 div.sk-container {/* jupyter's `normalize.less` sets `[hidden] { display: none; }` but bootstrap.min.css set `[hidden] { display: none !important; }` so we also need the `!important` here to be able to override the default hidden behavior on the sphinx rendered scikit-learn.org. See: https://github.com/scikit-learn/scikit-learn/issues/21755 */display: inline-block !important;position: relative;}#sk-container-id-1 div.sk-text-repr-fallback {display: none;}</style><div id=\"sk-container-id-1\" class=\"sk-top-container\"><div class=\"sk-text-repr-fallback\"><pre>LinearRegression()</pre><b>In a Jupyter environment, please rerun this cell to show the HTML representation or trust the notebook. <br />On GitHub, the HTML representation is unable to render, please try loading this page with nbviewer.org.</b></div><div class=\"sk-container\" hidden><div class=\"sk-item\"><div class=\"sk-estimator sk-toggleable\"><input class=\"sk-toggleable__control sk-hidden--visually\" id=\"sk-estimator-id-1\" type=\"checkbox\" checked><label for=\"sk-estimator-id-1\" class=\"sk-toggleable__label sk-toggleable__label-arrow\">LinearRegression</label><div class=\"sk-toggleable__content\"><pre>LinearRegression()</pre></div></div></div></div></div>"
            ]
          },
          "metadata": {},
          "execution_count": 49
        }
      ]
    },
    {
      "cell_type": "code",
      "source": [
        "train_score_lr = lr.score(X_train, y_train)\n",
        "test_score_lr = lr.score(X_test, y_test)\n",
        "\n",
        "print(\"The train score for linear model is {}\".format(train_score_lr))\n",
        "print(\"The test score for linear model is {}\".format(test_score_lr))"
      ],
      "metadata": {
        "colab": {
          "base_uri": "https://localhost:8080/"
        },
        "id": "Wx_VsfJ2NgSE",
        "outputId": "66241f0f-e86d-427d-a7a4-5032a8151918"
      },
      "id": "Wx_VsfJ2NgSE",
      "execution_count": null,
      "outputs": [
        {
          "output_type": "stream",
          "name": "stdout",
          "text": [
            "The train score for linear model is 0.9999999997565379\n",
            "The test score for linear model is 0.9999999997773288\n"
          ]
        }
      ]
    }
  ],
  "metadata": {
    "kernelspec": {
      "display_name": "Python 3 (ipykernel)",
      "language": "python",
      "name": "python3"
    },
    "language_info": {
      "codemirror_mode": {
        "name": "ipython",
        "version": 3
      },
      "file_extension": ".py",
      "mimetype": "text/x-python",
      "name": "python",
      "nbconvert_exporter": "python",
      "pygments_lexer": "ipython3",
      "version": "3.11.4"
    },
    "colab": {
      "provenance": [],
      "include_colab_link": true
    }
  },
  "nbformat": 4,
  "nbformat_minor": 5
}